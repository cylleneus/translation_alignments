{
 "cells": [
  {
   "cell_type": "markdown",
   "metadata": {},
   "source": [
    "Cylleneus + Translation Alignments\n",
    "==================================\n",
    "\n",
    "Once installed, the Cylleneus engine can be used in conjunction with the CLTK and other libraries to perform queries programmatically via the search API. In this way, the engine can be used in the service of text analysis. One use could be to query and manipulate so-called \"translation alignments\", where the translation of some Latin or Greek text is linked with the primary-language source text, supporting research in classical reception or translation studies. Let's see what we can do!\n",
    "\n",
    "First, we set up our environment."
   ]
  },
  {
   "cell_type": "code",
   "execution_count": 84,
   "metadata": {
    "pycharm": {
     "is_executing": false
    }
   },
   "outputs": [],
   "source": [
    "# Utility imports\n",
    "import codecs\n",
    "\n",
    "import lxml.etree as et\n",
    "\n",
    "# We need tell Cylleneus what corpus we want to search, and then instantiate a Searcher object to execute specific queries.\n",
    "from corpus import Corpus\n",
    "from search import Collection, Searcher\n",
    "from utils import nrange"
   ]
  },
  {
   "cell_type": "markdown",
   "metadata": {},
   "source": [
    "Robust translation-aligned corpora do not yet exist for Greek and Latin, but an alignment of A. T. Murray's translation of Homer's *Iliad*, produced by Gregory Crane, is available. Cylleneus comes with this text already indexed for immediate use."
   ]
  },
  {
   "cell_type": "code",
   "execution_count": 85,
   "metadata": {
    "pycharm": {
     "is_executing": false
    }
   },
   "outputs": [],
   "source": [
    "corpus = Corpus('translation_alignments')\n",
    "searcher = Searcher(Collection(corpus.works_for(author=\"Homer\", title=\"Iliad (English)\")))"
   ]
  },
  {
   "cell_type": "markdown",
   "metadata": {
    "pycharm": {
     "name": "#%% md\n"
    }
   },
   "source": [
    "We can start by simply searching the translation for a word (or lemma) that interests us. Perhaps we're interested in swords. Because Cylleneus supports simple word-form, searching, we could search for occurrences of 'sword' or 'swords'."
   ]
  },
  {
   "cell_type": "code",
   "execution_count": 86,
   "outputs": [
    {
     "name": "stdout",
     "text": [
      "Results for 'sword':",
      " ",
      "26",
      "\n",
      "Results for 'swords':",
      " ",
      "5",
      "\n"
     ],
     "output_type": "stream"
    }
   ],
   "source": [
    "# Let's see how results we get.\n",
    "search = searcher.search('sword')\n",
    "print(\"Results for 'sword':\", len(search.results))\n",
    "\n",
    "search = searcher.search('swords')\n",
    "print(\"Results for 'swords':\", len(search.results))"
   ],
   "metadata": {
    "collapsed": false,
    "pycharm": {
     "name": "#%%\n",
     "is_executing": false
    }
   }
  },
  {
   "cell_type": "markdown",
   "source": [
    "But Cylleneus also supports lemma-based queries. Since we want to capture all occurrences of this English word (not just those in the singular or plural), we can chance our query to search by the lemma 'sword'."
   ],
   "metadata": {
    "collapsed": false
   }
  },
  {
   "cell_type": "code",
   "execution_count": 87,
   "outputs": [
    {
     "name": "stdout",
     "text": [
      "Results for <sword>:",
      " ",
      "31",
      "\n"
     ],
     "output_type": "stream"
    }
   ],
   "source": [
    "# This should get us all of them.\n",
    "search = searcher.search('<sword>')\n",
    "print(\"Results for <sword>:\", len(search.results))\n",
    "\n",
    "# View the raw search results.\n",
    "# for hlite in search.highlights:\n",
    "#     print(hlite.reference, \"=\", hlite.text)"
   ],
   "metadata": {
    "collapsed": false,
    "pycharm": {
     "name": "#%%\n",
     "is_executing": false
    }
   }
  },
  {
   "cell_type": "markdown",
   "source": [
    "That's better. But by now we must be wondering: what word or words in Greek is English 'sword' translating? There are, after all, at least three Greek words corresponding to this meaning: *ξίφος*, *ἄορ*, and *φάσγανον* (there is also *ῥομφαία*, but that is more like a 'broadsword' and at any rate is a late word). Does Homer use all three for 'sword'? We can use our translation alignment, along with a primary source text, to explore the question.\n",
    "\n",
    "*ἄορ* is intriguing. It occurs in the *Odyssey* as a clear synonym of *ξίφος* and can be substituted for it in similar formulaic expressions (cf. 10.294, *σὺ ξίφος ὀξὺ ἐρυσσάμενος παρὰ μηροῦ* with 11.24, *ἐγὼ δ᾽ ἄορ ὀξὺ ἐρυσσάμενος παρὰ μηροῦ*). Does it ever bear the meaning of 'sword' in the *Iliad*?"
   ],
   "metadata": {
    "collapsed": false
   }
  },
  {
   "cell_type": "code",
   "execution_count": 88,
   "outputs": [],
   "source": [
    "# Let's first define some convenience functions to help us manipulate the alignment data.\n",
    "def match_lemma(doc, alignment, lemma):    \n",
    "    \"\"\" Match a lemma within a given alignment reference range \"\"\"\n",
    "\n",
    "    # Get the alignment reference for the match in the English translation\n",
    "    try:\n",
    "        start, end = alignment.split('-')\n",
    "    except ValueError:\n",
    "        start = end = alignment\n",
    "\n",
    "    # Get all tokens within the reference range\n",
    "    tokens = [t\n",
    "        for ref in nrange(start.split('.'), end.split('.'))\n",
    "        for t in doc.findall(\".//t[@p='{}']\".format('.'.join([str(n) for n in ref])))\n",
    "    ]\n",
    "\n",
    "    # Scan the tokens for the target lemma\n",
    "    matches = []\n",
    "    for token in tokens:\n",
    "        l1 = token.find('l').find('l1')\n",
    "\n",
    "        if l1 is not None:\n",
    "            if l1.text == lemma:\n",
    "                matches.append(token.get('p'))\n",
    "    return matches\n",
    "\n",
    "def aligned_text(doc, alignment):\n",
    "    \"\"\" Fetch source text for a given alignment reference range \"\"\"\n",
    "    \n",
    "    # Get the alignment reference for the match in the English translation\n",
    "    try:\n",
    "        start, end = alignment.split('-')\n",
    "    except ValueError:\n",
    "        start = end = alignment\n",
    "\n",
    "    # Get all tokens within the reference range\n",
    "    tokens = [t\n",
    "        for ref in nrange(start.split('.'), end.split('.'))\n",
    "        for t in doc.findall(\".//t[@p='{}']\".format('.'.join([str(n) for n in ref])))\n",
    "    ]\n",
    "\n",
    "    # Reconstruct the text\n",
    "    s = \"\"\n",
    "    for token in tokens:\n",
    "        f = token.find('f')\n",
    "        join = token.get('join')\n",
    "        if join and join == \"b\":\n",
    "            s += f.text     \n",
    "        else:\n",
    "            s += \" \" + f.text\n",
    "    return s"
   ],
   "metadata": {
    "collapsed": false,
    "pycharm": {
     "name": "#%%\n",
     "is_executing": false
    }
   }
  },
  {
   "cell_type": "markdown",
   "source": [
    "Now let's load a lemmatized text of the _Iliad_, to check our results against."
   ],
   "metadata": {
    "collapsed": false,
    "pycharm": {
     "name": "#%% md\n"
    }
   }
  },
  {
   "cell_type": "code",
   "execution_count": 89,
   "outputs": [],
   "source": [
    "with codecs.open(\"../corpus/translation_alignments/source/tlg0012.tlg001.perseus-grc2.xml\", 'rb') as fp:\n",
    "    value = fp.read()\n",
    "parser = et.XMLParser(encoding='utf-8')\n",
    "doc = et.XML(value, parser=parser)"
   ],
   "metadata": {
    "collapsed": false,
    "pycharm": {
     "name": "#%%\n",
     "is_executing": false
    }
   }
  },
  {
   "cell_type": "markdown",
   "source": [
    "Now we can match our translations against the source text. Do any of the English results for 'sword' match for *ἄορ* in the Greek?\n"
   ],
   "metadata": {
    "collapsed": false,
    "pycharm": {
     "name": "#%% md\n"
    }
   }
  },
  {
   "cell_type": "code",
   "execution_count": 90,
   "outputs": [
    {
     "name": "stdout",
     "text": [
      "Results matching for 'ἄορ':",
      "\n",
      "11.240",
      " ",
      " σπάσσατο· τὸν δʼ ἄορι πλῆξʼ αὐχένα, λῦσε δὲ γυῖα.",
      " ",
      "<match>and smote him on the neck with his <em>sword</em> and loosed his limbs .</match>",
      "\n",
      "11.265",
      " ",
      " αὐτὰρ ὃ τῶν ἄλλων ἐπεπωλεῖτο στίχας ἀνδρῶν ἔγχεΐ τʼ ἄορί τε μεγάλοισί τε χερμαδίοισιν, ὄφρά οἱ αἷμʼ ἔτι θερμὸν ἀνήνοθεν ἐξ ὠτειλῆς.",
      " ",
      "<match>with spear and <em>sword</em> and great stones , so long as the blood welled yet warm from his wound .</match>",
      "\n",
      "11.541",
      " ",
      " αὐτὰρ ὃ τῶν ἄλλων ἐπεπωλεῖτο στίχας ἀνδρῶν ἔγχεΐ τʼ ἄορί τε μεγάλοισί τε χερμαδίοισιν, Αἴαντος δʼ ἀλέεινε μάχην Τελαμωνιάδαο.",
      " ",
      "<match>Nay , he ranged among the ranks of the other warriors with spear and <em>sword</em> and with great stones ; only he avoided battle with Aias , son of Telamon .</match>",
      "\n",
      "14.385",
      " ",
      " βάν ῥʼ ἴμεν· ἦρχε δʼ ἄρά σφι Ποσειδάων ἐνοσίχθων δεινὸν ἄορ τανύηκες ἔχων ἐν χειρὶ παχείῃ εἴκελον ἀστεροπῇ· τῷ δʼ οὐ θέμις ἐστὶ μιγῆναι",
      " ",
      "<match>bearing in his strong hand a dread <em>sword</em> , long of edge , like unto the lightning ,</match>",
      "\n",
      "16.115",
      " ",
      " Ἕκτωρ Αἴαντος δόρυ μείλινον ἄγχι παραστὰς πλῆξʼ ἄορι μεγάλῳ αἰχμῆς παρὰ καυλὸν ὄπισθεν, ἀντικρὺ δʼ ἀπάραξε· τὸ μὲν Τελαμώνιος Αἴας",
      " ",
      "<match>and smote his ashen spear with his great <em>sword</em> hard by the socket , at the base ot the point , and shore it clean away ,</match>",
      "\n",
      "20.290",
      " ",
      " ἔνθά κεν Αἰνείας μὲν ἐπεσσύμενον βάλε πέτρῳ ἢ κόρυθʼ ἠὲ σάκος, τό οἱ ἤρκεσε λυγρὸν ὄλεθρον, τὸν δέ κε Πηλεΐδης σχεδὸν ἄορι θυμὸν ἀπηύρα, εἰ μὴ ἄρʼ ὀξὺ νόησε Ποσειδάων ἐνοσίχθων·",
      " ",
      "<match>and the son of Peleus in close combat would with his <em>sword</em> have robbed Aeneas of life , had not Poseidon , the Shaker of Earth , been quick to see .</match>",
      "\n",
      "20.462",
      " ",
      " αὐτὰρ ὃ Λαόγονον καὶ Δάρδανον υἷε Βίαντος ἄμφω ἐφορμηθεὶς ἐξ ἵππων ὦσε χαμᾶζε, τὸν μὲν δουρὶ βαλών, τὸν δὲ σχεδὸν ἄορι τύψας.",
      " ",
      "<match>Then setting upon Laogonus and Dardanus , sons twain of Bias , he thrust them both from their chariot to the ground , smiting the one with a cast of his spear and the other with his <em>sword</em> in close fight .</match>",
      "\n",
      "21.208",
      " ",
      " αὐτὰρ ὃ βῆ ῥʼ ἰέναι μετὰ Παίονας ἱπποκορυστάς, οἵ ῥʼ ἔτι πὰρ ποταμὸν πεφοβήατο δινήεντα, ὡς εἶδον τὸν ἄριστον ἐνὶ κρατερῇ ὑσμίνῃ χέρσʼ ὕπο Πηλεΐδαο καὶ ἄορι ἶφι δαμέντα.",
      " ",
      "<match>but Achilles went his way after the Paeonians , lords of chariots , who were still huddled in rout along the eddying river , when they saw their best man mightily vanquished in the fierce conflict beneath the hands and <em>sword</em> of the son of Peleus .</match>",
      "\n"
     ],
     "output_type": "stream"
    }
   ],
   "source": [
    "matched = []\n",
    "hlites = list(search.highlights)\n",
    "print(\"Results matching for 'ἄορ':\")\n",
    "for i, (hit, meta, fragment) in enumerate(search.results):\n",
    "    text = aligned_text(doc, meta[\"start\"][\"alignment\"])\n",
    "    for match in match_lemma(doc, meta[\"start\"][\"alignment\"], \"ἄορ\"):\n",
    "        print(match, text, hlites[i].text)\n",
    "        matched.append(meta[\"start\"][\"alignment\"])"
   ],
   "metadata": {
    "collapsed": false,
    "pycharm": {
     "name": "#%%\n",
     "is_executing": false
    }
   }
  },
  {
   "cell_type": "markdown",
   "source": [
    "Yes! A fair number, in fact. What about *ξίφος*?"
   ],
   "metadata": {
    "collapsed": false
   }
  },
  {
   "cell_type": "code",
   "execution_count": 91,
   "outputs": [
    {
     "name": "stdout",
     "text": [
      "Results matching for 'ξίφος':",
      "\n",
      "1.210",
      " ",
      " ἀλλʼ ἄγε λῆγʼ ἔριδος, μηδὲ ξίφος ἕλκεο χειρί·",
      " ",
      "<match>But come , cease from strife , and do not grasp the <em>sword</em> with your hand .</match>",
      "\n",
      "1.220",
      " ",
      " ἦ καὶ ἐπʼ ἀργυρέῃ κώπῃ σχέθε χεῖρα βαρεῖαν, ἂψ δʼ ἐς κουλεὸν ὦσε μέγα ξίφος, οὐδʼ ἀπίθησε μύθῳ Ἀθηναίης· ἣ δʼ Οὔλυμπον δὲ βεβήκει",
      " ",
      "<match>and back into its sheath thrust the great <em>sword</em> , and did not disobey the word of Athene .</match>",
      "\n",
      "2.45",
      " ",
      " ποσσὶ δʼ ὑπὸ λιπαροῖσιν ἐδήσατο καλὰ πέδιλα, ἀμφὶ δʼ ἄρʼ ὤμοισιν βάλετο ξίφος ἀργυρόηλον·",
      " ",
      "<match>and about his shoulders flung his silver-studded <em>sword</em> ;</match>",
      "\n",
      "3.18",
      " ",
      " οἳ δʼ ὅτε δὴ σχεδὸν ἦσαν ἐπʼ ἀλλήλοισιν ἰόντες, Τρωσὶν μὲν προμάχιζεν Ἀλέξανδρος θεοειδὴς παρδαλέην ὤμοισιν ἔχων καὶ καμπύλα τόξα καὶ ξίφος· αὐτὰρ δοῦρε δύω κεκορυθμένα χαλκῷ",
      " ",
      "<match>Now when they were come near , as they advanced one host against the other , among the Trojans there stood forth as champion godlike Alexander , bearing upon his shoulders a panther skin and his curved bow , and his <em>sword</em> ;</match>",
      "\n",
      "4.530",
      " ",
      " ἀγχίμολον δέ οἱ ἦλθε Θόας, ἐκ δʼ ὄβριμον ἔγχος ἐσπάσατο στέρνοιο, ἐρύσσατο δὲ ξίφος ὀξύ, τῷ ὅ γε γαστέρα τύψε μέσην, ἐκ δʼ αἴνυτο θυμόν.",
      " ",
      "<match>and drew his sharp <em>sword</em> and smote him therewith full upon the belly , and took away his life .</match>",
      "\n",
      "5.146",
      " ",
      " ἔνθʼ ἕλεν Ἀστύνοον καὶ Ὑπείρονα ποιμένα λαῶν, τὸν μὲν ὑπὲρ μαζοῖο βαλὼν χαλκήρεϊ δουρί, τὸν δʼ ἕτερον ξίφεϊ μεγάλῳ κληῗδα παρʼ ὦμον πλῆξʼ, ἀπὸ δʼ αὐχένος ὦμον ἐέργαθεν ἠδʼ ἀπὸ νώτου.",
      " ",
      "<match>the one he smote above the nipple with a cast of his bronze-shod spear , and the other he struck with his great <em>sword</em> upon the collar-bone beside the shoulder , and shore off the shoulder from the neck and from the back .</match>",
      "\n",
      "10.261",
      " ",
      " Μηριόνης δʼ Ὀδυσῆϊ δίδου βιὸν ἠδὲ φαρέτρην καὶ ξίφος, ἀμφὶ δέ οἱ κυνέην κεφαλῆφιν ἔθηκε ῥινοῦ ποιητήν· πολέσιν δʼ ἔντοσθεν ἱμᾶσιν",
      " ",
      "<match>And Meriones gave to Odysseus a bow and a quiver and a <em>sword</em> , and about his head he set a helm wrought of hide ,</match>",
      "\n",
      "11.146",
      " ",
      " Ἱππόλοχος δʼ ἀπόρουσε, τὸν αὖ χαμαὶ ἐξενάριξε χεῖρας ἀπὸ ξίφεϊ τμήξας ἀπό τʼ αὐχένα κόψας, ὅλμον δʼ ὣς ἔσσευε κυλίνδεσθαι διʼ ὁμίλου.",
      " ",
      "<match>But Hippolochus leapt down , and him he slew upon the ground , and shearing off his arms with the <em>sword</em> , and striking off his head , sent him rolling , like a round stone , amid the throng .</match>",
      "\n",
      "12.190",
      " ",
      " αὖτις δʼ ἐκ κολεοῖο ἐρυσσάμενος ξίφος ὀξὺ Ἀντιφάτην μὲν πρῶτον ἐπαΐξας διʼ ὁμίλου πλῆξʼ αὐτοσχεδίην· ὃ δʼ ἄρʼ ὕπτιος οὔδει ἐρείσθη·",
      " ",
      "<match>And again he drew from its sheath his sharp <em>sword</em> and darting upon him through the throng smote Antiphates first in close fight ,</match>",
      "\n",
      "13.610",
      " ",
      " Ἀτρεΐδης δὲ ἐρυσσάμενος ξίφος ἀργυρόηλον ἆλτʼ ἐπὶ Πεισάνδρῳ· ὃ δʼ ὑπʼ ἀσπίδος εἵλετο καλὴν",
      " ",
      "<match>But the son of Atreus drew his silver-studded <em>sword</em> , and leapt upon Peisander ;</match>",
      "\n",
      "14.26",
      " ",
      " μαρνάμενοι· λάκε δέ σφι περὶ χροῒ χαλκὸς ἀτειρὴς νυσσομένων ξίφεσίν τε καὶ ἔγχεσιν ἀμφιγύοισι.",
      " ",
      "<match>and about their bodies rang the stubborn bronze , as they thrust one at the other with <em>swords</em> and two-edged spears .</match>",
      "\n",
      "15.712",
      " ",
      " δῄουν ἀλλήλους αὐτοσχεδόν· οὐδʼ ἄρα τοί γε τόξων ἀϊκὰς ἀμφὶς μένον οὐδʼ ἔτʼ ἀκόντων, ἀλλʼ οἵ γʼ ἐγγύθεν ἱστάμενοι ἕνα θυμὸν ἔχοντες ὀξέσι δὴ πελέκεσσι καὶ ἀξίνῃσι μάχοντο καὶ ξίφεσιν μεγάλοισι καὶ ἔγχεσιν ἀμφιγύοισι.",
      " ",
      "<match>but standing man against man in oneness of heart , they fought with sharp battle-axes and hatchets , and with great <em>swords</em> and two-edged spears .</match>",
      "\n",
      "16.135",
      " ",
      " ἀμφὶ δʼ ἄρʼ ὤμοισιν βάλετο ξίφος ἀργυρόηλον χάλκεον, αὐτὰρ ἔπειτα σάκος μέγα τε στιβαρόν τε·",
      " ",
      "<match>And about his shoulders he cast the silver-studded <em>sword</em> of bronze , and thereafter the shield , great and sturdy ;</match>",
      "\n",
      "16.637",
      " ",
      " τῶν δʼ ὥς τε δρυτόμων ἀνδρῶν ὀρυμαγδὸς ὀρώρει οὔρεος ἐν βήσσῃς, ἕκαθεν δέ τε γίγνετʼ ἀκουή, ὣς τῶν ὄρνυτο δοῦπος ἀπὸ χθονὸς εὐρυοδείης χαλκοῦ τε ῥινοῦ τε βοῶν τʼ εὐποιητάων, νυσσομένων ξίφεσίν τε καὶ ἔγχεσιν ἀμφιγύοισιν.",
      " ",
      "<match>so from them went up a clanging from the broad-wayed earth , a clanging of bronze and of hide and of well-wrought shields , as they thrust one at the other with <em>swords</em> and two-edged spears .</match>",
      "\n",
      "17.731",
      " ",
      " ὣς Τρῶες εἷος μὲν ὁμιλαδὸν αἰὲν ἕποντο νύσσοντες ξίφεσίν τε καὶ ἔγχεσιν ἀμφιγύοισιν·",
      " ",
      "<match>even so the Trojans for a time ever followed on in throngs , thrusting with <em>swords</em> and two-edged spears ,</match>",
      "\n",
      "20.475",
      " ",
      " αἰχμὴ χαλκείη· ὃ δʼ Ἀγήνορος υἱὸν Ἔχεκλον μέσσην κὰκ κεφαλὴν ξίφει ἤλασε κωπήεντι, πᾶν δʼ ὑπεθερμάνθη ξίφος αἵματι· τὸν δὲ κατʼ ὄσσε",
      " ",
      "<match>full upon the head with his hilted <em>sword</em> , and all the blade grew warm with his blood ,</match>",
      "\n",
      "20.476",
      " ",
      " αἰχμὴ χαλκείη· ὃ δʼ Ἀγήνορος υἱὸν Ἔχεκλον μέσσην κὰκ κεφαλὴν ξίφει ἤλασε κωπήεντι, πᾶν δʼ ὑπεθερμάνθη ξίφος αἵματι· τὸν δὲ κατʼ ὄσσε",
      " ",
      "<match>full upon the head with his hilted <em>sword</em> , and all the blade grew warm with his blood ,</match>",
      "\n"
     ],
     "output_type": "stream"
    }
   ],
   "source": [
    "print(\"Results matching for 'ξίφος':\")\n",
    "for i, (hit, meta, fragment) in enumerate(search.results):\n",
    "    text = aligned_text(doc, meta[\"start\"][\"alignment\"])\n",
    "    for match in match_lemma(doc, meta[\"start\"][\"alignment\"], \"ξίφος\"):\n",
    "        print(match, text, hlites[i].text)\n",
    "        matched.append(meta[\"start\"][\"alignment\"])"
   ],
   "metadata": {
    "collapsed": false,
    "pycharm": {
     "name": "#%%\n",
     "is_executing": false
    }
   }
  },
  {
   "cell_type": "markdown",
   "source": [
    "And *φάσγανον*?"
   ],
   "metadata": {
    "collapsed": false
   }
  },
  {
   "cell_type": "code",
   "execution_count": 92,
   "outputs": [
    {
     "name": "stdout",
     "text": [
      "Results matching for 'φάσγανον':",
      "\n",
      "1.190",
      " ",
      " ὣς φάτο· Πηλεΐωνι δʼ ἄχος γένετʼ, ἐν δέ οἱ ἦτορ στήθεσσιν λασίοισι διάνδιχα μερμήριξεν, ἢ ὅ γε φάσγανον ὀξὺ ἐρυσσάμενος παρὰ μηροῦ τοὺς μὲν ἀναστήσειεν, ὃ δʼ Ἀτρεΐδην ἐναρίζοι, ἦε χόλον παύσειεν ἐρητύσειέ τε θυμόν.",
      " ",
      "<match>whether he should draw his sharp <em>sword</em> from beside his thigh , and break up the assembly , and slay the son of Atreus , or stay his anger and curb his spirit .</match>",
      "\n",
      "5.81",
      " ",
      " Εὐρύπυλος δʼ Εὐαιμονίδης Ὑψήνορα δῖον υἱὸν ὑπερθύμου Δολοπίονος, ὅς ῥα Σκαμάνδρου ἀρητὴρ ἐτέτυκτο, θεὸς δʼ ὣς τίετο δήμῳ, τὸν μὲν ἄρʼ Εὐρύπυλος, Εὐαίμονος ἀγλαὸς υἱός, πρόσθεν ἕθεν φεύγοντα μεταδρομάδην ἔλασʼ ὦμον φασγάνῳ ἀΐξας, ἀπὸ δʼ ἔξεσε χεῖρα βαρεῖαν·",
      " ",
      "<match>rush with his <em>sword</em> as he fled before him , and in mid-course smite him upon the shoulder and lop off his heavy arm .</match>",
      "\n",
      "10.456",
      " ",
      " ἦ, καὶ ὃ μέν μιν ἔμελλε γενείου χειρὶ παχείῃ ἁψάμενος λίσσεσθαι, ὃ δʼ αὐχένα μέσσον ἔλασσε φασγάνῳ ἀΐξας, ἀπὸ δʼ ἄμφω κέρσε τένοντε·",
      " ",
      "<match>and make entreaty , but Diomedes sprang upon him with his <em>sword</em> and smote him full upon the neck , and shore off both the sinews ,</match>",
      "\n",
      "23.807",
      " ",
      " ὁππότερός κε φθῇσιν ὀρεξάμενος χρόα καλόν, ψαύσῃ δʼ ἐνδίνων διά τʼ ἔντεα καὶ μέλαν αἷμα, τῷ μὲν ἐγὼ δώσω τόδε φάσγανον ἀργυρόηλον καλὸν Θρηΐκιον, τὸ μὲν Ἀστεροπαῖον ἀπηύρων·",
      " ",
      "<match>Whoso of the twain shall first reach the other 's fair flesh , and touch the inward parts through armour and dark blood , to him will I give this silver-studded sword—a goodly Thracian <em>sword</em> which I took from Asteropaeus ;</match>",
      "\n"
     ],
     "output_type": "stream"
    }
   ],
   "source": [
    "print(\"Results matching for 'φάσγανον':\")\n",
    "for i, (hit, meta, fragment) in enumerate(search.results):\n",
    "    text = aligned_text(doc, meta[\"start\"][\"alignment\"])\n",
    "    for match in match_lemma(doc, meta[\"start\"][\"alignment\"], \"φάσγανον\"):\n",
    "        print(match, text, hlites[i].text)\n",
    "        matched.append(meta[\"start\"][\"alignment\"])\n",
    "        "
   ],
   "metadata": {
    "collapsed": false,
    "pycharm": {
     "name": "#%% \n",
     "is_executing": false
    }
   }
  },
  {
   "cell_type": "markdown",
   "source": [
    "*ξίφος* stands behind the greatest number of 'sword' appearances by far. You may have noticed, though, that the number of results matching for *ξίφος*, *ἄορ*, and *φάσγανον* together does not add up to the number of results for `<sword>` in Murray's translation. What accounts for the unmatched translations?"
   ],
   "metadata": {
    "collapsed": false,
    "pycharm": {
     "name": "#%% md\n"
    }
   }
  },
  {
   "cell_type": "code",
   "execution_count": 93,
   "outputs": [
    {
     "name": "stdout",
     "text": [
      "15.254-15.257",
      " ",
      "<match>sent forth from Ida to stand by thy side and succour thee , even me , Phoebus Apollo of the golden <em>sword</em> , that of old ever protect thee , thyself and the steep citadel withal .</match>",
      " ",
      " θάρσει νῦν· τοῖόν τοι ἀοσσητῆρα Κρονίων ἐξ Ἴδης προέηκε παρεστάμεναι καὶ ἀμύνειν Φοῖβον Ἀπόλλωνα χρυσάορον, ὅς σε πάρος περ ῥύομʼ, ὁμῶς αὐτόν τε καὶ αἰπεινὸν πτολίεθρον.",
      "\n",
      "16.644-16.651",
      " ",
      "<match>turn his bright eyes from the fierce conflict , but ever looked down upon them , and debated in heart , pondering much about the slaying of Patroclus , whether in the fierce conflict even there over godlike Sarpedon , glorious Hector should slay him likewise with the <em>sword</em> , and should strip the armour from his shoulders , or whether for yet more men he should make the utter toil of war to wax .</match>",
      " ",
      " ὣς ἄρα τοὶ περὶ νεκρὸν ὁμίλεον, οὐδέ ποτε Ζεὺς τρέψεν ἀπὸ κρατερῆς ὑσμίνης ὄσσε φαεινώ, ἀλλὰ κατʼ αὐτοὺς αἰὲν ὅρα καὶ φράζετο θυμῷ, πολλὰ μάλʼ ἀμφὶ φόνῳ Πατρόκλου μερμηρίζων, ἢ ἤδη καὶ κεῖνον ἐνὶ κρατερῇ ὑσμίνῃ αὐτοῦ ἐπʼ ἀντιθέῳ Σαρπηδόνι φαίδιμος Ἕκτωρ χαλκῷ δῃώσῃ, ἀπό τʼ ὤμων τεύχεʼ ἕληται, ἦ ἔτι καὶ πλεόνεσσιν ὀφέλλειεν πόνον αἰπύν.",
      "\n",
      "17.530-17.532",
      " ",
      "<match>And now had they clashed with their <em>swords</em> in close fight but that the twain Aiantes parted them in their fury , for they came through the throng at the call of their comrade ,</match>",
      " ",
      " καί νύ κε δὴ ξιφέεσσʼ αὐτοσχεδὸν ὁρμηθήτην εἰ μή σφωʼ Αἴαντε διέκριναν μεμαῶτε, οἵ ῥʼ ἦλθον καθʼ ὅμιλον ἑταίρου κικλήσκοντος·",
      "\n"
     ],
     "output_type": "stream"
    }
   ],
   "source": [
    "missing = [\n",
    "    (meta[\"start\"][\"alignment\"], hlites[i].text)\n",
    "    for i, (hit, meta, fragment) in enumerate(search.results)\n",
    "    if meta[\"start\"][\"alignment\"] not in matched\n",
    "]\n",
    "\n",
    "for alignment, text in missing:\n",
    "    print(alignment, text, aligned_text(doc, alignment))\n",
    "    "
   ],
   "metadata": {
    "collapsed": false,
    "pycharm": {
     "name": "#%%\n",
     "is_executing": false
    }
   }
  },
  {
   "cell_type": "markdown",
   "source": [
    "In the first case, 'sword' actually occurs as part of the translation of *χρυσάορος*, an epithet of Apollo (\"golden-sword'd\"): a part-of-speech mismatch. In the third, 'swords' translates *ξιφέεσσιν*, which should have been counted amongst the matches for that word. For some reason, however, it was not correctly lemmatized. The remaining occurrence is more revealing. It reminds us that *χαλκός* (like Latin *ferrum*) can also, by a kind of metonymy, have the sense of 'sword'. This is a case, then, where the translator has \"flattened\" the sense of the source text, replacing the figurative expression with a more prosaic one. It is also a case in which the translator has interpreted a generic term -- in addition to 'sword', we know that *χαλκός* (literally, 'bronze') can also cover the meaning of 'spear', 'knife', 'axe', or even 'armor' -- in a more specialized sense. Of course, Cylleneus can't explain why that choice was made. But it has helped us identify some interesting features of Murray's translation."
   ],
   "metadata": {
    "collapsed": false,
    "pycharm": {
     "name": "#%% md\n"
    }
   }
  }
 ],
 "metadata": {
  "kernelspec": {
   "display_name": "Python 3",
   "language": "python",
   "name": "python3"
  },
  "language_info": {
   "codemirror_mode": {
    "name": "ipython",
    "version": 3
   },
   "file_extension": ".py",
   "mimetype": "text/x-python",
   "name": "python",
   "nbconvert_exporter": "python",
   "pygments_lexer": "ipython3",
   "version": "3.7.2"
  },
  "pycharm": {
   "stem_cell": {
    "cell_type": "raw",
    "source": [],
    "metadata": {
     "collapsed": false
    }
   }
  }
 },
 "nbformat": 4,
 "nbformat_minor": 2
}
